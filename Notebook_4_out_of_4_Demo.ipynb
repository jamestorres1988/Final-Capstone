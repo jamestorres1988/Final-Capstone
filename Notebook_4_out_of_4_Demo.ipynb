{
  "nbformat": 4,
  "nbformat_minor": 0,
  "metadata": {
    "colab": {
      "name": "Notebook 4 out of 4 Demo.ipynb",
      "provenance": [],
      "toc_visible": true
    },
    "kernelspec": {
      "name": "python3",
      "display_name": "Python 3"
    }
  },
  "cells": [
    {
      "cell_type": "markdown",
      "metadata": {
        "id": "UN_C_r5hDlAL",
        "colab_type": "text"
      },
      "source": [
        "# Final Capstone Notebook 4 out of 4 (Demo)\n",
        "\n",
        "This is best viewed on google collab. Link [here.](https://colab.research.google.com/drive/1m9wZ4mi-ZrhShA8i1PtAoTCTritrekA9) This demo will demonstrate how the topic extractor can be used to analyze a restaurants performance."
      ]
    },
    {
      "cell_type": "code",
      "metadata": {
        "id": "e4Re240pbd1G",
        "colab_type": "code",
        "outputId": "910b0e94-37ce-411a-bac6-5f359d51c47c",
        "colab": {
          "base_uri": "https://localhost:8080/",
          "height": 33
        }
      },
      "source": [
        "# Code to read csv file into colaboratory:\n",
        "!pip install -U -q PyDrive\n",
        "from pydrive.auth import GoogleAuth\n",
        "from pydrive.drive import GoogleDrive\n",
        "from google.colab import auth\n",
        "from oauth2client.client import GoogleCredentials\n",
        "\n",
        "auth.authenticate_user()\n",
        "gauth = GoogleAuth()\n",
        "gauth.credentials = GoogleCredentials.get_application_default()\n",
        "gdrive = GoogleDrive(gauth)\n",
        "\n",
        "# Code to load model from Google Drive:\n",
        "import pickle\n",
        "from google.colab import drive\n",
        "drive.mount('/content/gdrive')\n",
        "\n",
        "# Basic libraries\n",
        "import numpy as np\n",
        "import gc\n",
        "import pandas as pd\n",
        "import matplotlib.pyplot as plt\n",
        "import seaborn as sns\n",
        "from joblib import load \n",
        "import warnings\n",
        "\n",
        "warnings.filterwarnings('ignore', category=FutureWarning)\n",
        "sns.set(style=\"whitegrid\")\n",
        "\n",
        "# Supervised learning models\n",
        "from sklearn.model_selection import train_test_split\n",
        "from sklearn.pipeline import make_pipeline\n",
        "from sklearn.preprocessing import normalize\n",
        "\n",
        "# Deep neutral networks\n",
        "import tensorflow as tf\n",
        "\n",
        "# Text manipulation tools\n",
        "from sklearn.feature_extraction.text import TfidfVectorizer\n",
        "from sklearn.feature_extraction.text import CountVectorizer\n",
        "from sklearn.decomposition import TruncatedSVD\n",
        "from sklearn.decomposition import LatentDirichletAllocation as LDA\n",
        "from sklearn.decomposition import NMF\n",
        "from wordcloud import WordCloud\n",
        "\n",
        "# Remove column width so we can read entire text\n",
        "pd.set_option('display.max_colwidth', 0)"
      ],
      "execution_count": 69,
      "outputs": [
        {
          "output_type": "stream",
          "text": [
            "Drive already mounted at /content/gdrive; to attempt to forcibly remount, call drive.mount(\"/content/gdrive\", force_remount=True).\n"
          ],
          "name": "stdout"
        }
      ]
    },
    {
      "cell_type": "markdown",
      "metadata": {
        "id": "NWOMTxpGb8We",
        "colab_type": "text"
      },
      "source": [
        "# Load Dataset and Models\n",
        "\n",
        "We will handle the dataset the same way that we handled it in notebook 2."
      ]
    },
    {
      "cell_type": "code",
      "metadata": {
        "id": "Wy4JYeC8b29h",
        "colab_type": "code",
        "colab": {
          "base_uri": "https://localhost:8080/",
          "height": 332
        },
        "outputId": "95ffdbd6-2674-4b2c-dbf3-0e32300e1ea1"
      },
      "source": [
        "# Pull from Google Drive\n",
        "downloaded = gdrive.CreateFile({'id':'1Dxm3PPE_pCSZ7FkKEScqk3JIvU25SOKO'})\n",
        "downloaded.GetContentFile('comb_df.csv') \n",
        "\n",
        "# Read files as df\n",
        "comb_df = pd.read_csv('comb_df.csv') \n",
        "\n",
        "comb_df.head(2)"
      ],
      "execution_count": 31,
      "outputs": [
        {
          "output_type": "execute_result",
          "data": {
            "text/html": [
              "<div>\n",
              "<style scoped>\n",
              "    .dataframe tbody tr th:only-of-type {\n",
              "        vertical-align: middle;\n",
              "    }\n",
              "\n",
              "    .dataframe tbody tr th {\n",
              "        vertical-align: top;\n",
              "    }\n",
              "\n",
              "    .dataframe thead th {\n",
              "        text-align: right;\n",
              "    }\n",
              "</style>\n",
              "<table border=\"1\" class=\"dataframe\">\n",
              "  <thead>\n",
              "    <tr style=\"text-align: right;\">\n",
              "      <th></th>\n",
              "      <th>Unnamed: 0</th>\n",
              "      <th>business_id</th>\n",
              "      <th>lem_join</th>\n",
              "      <th>text</th>\n",
              "      <th>target</th>\n",
              "      <th>text_type</th>\n",
              "      <th>date</th>\n",
              "      <th>name</th>\n",
              "    </tr>\n",
              "  </thead>\n",
              "  <tbody>\n",
              "    <tr>\n",
              "      <th>0</th>\n",
              "      <td>0</td>\n",
              "      <td>meXjqyhTNLFmknY39y2sMg</td>\n",
              "      <td>solid beer christmas ale define holiday season   away long time ago home try stop great lakes   great vibe super chill stellar food beer</td>\n",
              "      <td>Solid beers -- Christmas Ale defines my holiday season.  I moved away a long time ago, but whenever I am home, I try to make a stop at Great Lakes.  Great vibe, super chill, stellar food and beer.</td>\n",
              "      <td>1.0</td>\n",
              "      <td>yelp_review</td>\n",
              "      <td>2014-09-11</td>\n",
              "      <td>\"Great Lakes Brewing Company\"</td>\n",
              "    </tr>\n",
              "    <tr>\n",
              "      <th>1</th>\n",
              "      <td>1</td>\n",
              "      <td>meXjqyhTNLFmknY39y2sMg</td>\n",
              "      <td>meh   ok   bartender night tell cleveland eat advice grab early dinner spend day rock n roll hall fame   like alright   3 different server meal do not know never tell else care sudden else start come table   server suggest pizza half decent not think suggest definitely not order   not bad think hope well choice   originally order beer flight 6 specialty beer do not like not not good beer sure not big beer drinker- no go husband drink order soda second server laugh   nuff think   experience like try new place especially local spot glad go   not amazing time expect base tell   fair maybe not normal- thing happen draw short straw   not super impressed \\n\\n good gift shop   sell specialty beer shop pack want   plus nice merchandise choose</td>\n",
              "      <td>Meh.  It was OK.  A bartender the night before somewhere told us that while we were in Cleveland we HAD to eat here, so we took her advice and grabbed an early dinner here after spending the day at the Rock N Roll Hall of Fame.  Like I said, it was alright.  We had 3 different servers through the meal (dont know what ANY of their names were, and was never told that someone else would be taking care of us... all the sudden, someone else just started coming to our table).  The first server suggested the pizza because it was half off, so we both had one.. they were decent, but not something that I think I would have suggested to anyone, and definitely not something I would order again.  Not that they were BAD, but I think (or I hope..) they have better choices.  We originally ordered a beer flight of all 6 specialty beers, and I didn't like any of them (not because they weren't good beers, I'm sure they were, but for someone who isn't a big beer drinker- it was a no go), so my husband just drank all of them, and when I ordered a soda, our SECOND server laughed at me.  'Nuff said, I think.  Anyway, it was an experience, and we both like trying new places, especially local spots, so I'm glad we went.  It just wasn't the amazing time we were expecting based on what we had been told.  And to be fair, maybe all of that isn't normal- sometimes things happen and you just draw the short straw.  But we weren't super impressed.\\n\\nGood gift shop, though.  They sell most of the specialty beers in the shop and you can make your own six packs of whatever you want.  Plus they have some nice merchandise to choose from, too.</td>\n",
              "      <td>0.0</td>\n",
              "      <td>yelp_review</td>\n",
              "      <td>2013-10-13</td>\n",
              "      <td>\"Great Lakes Brewing Company\"</td>\n",
              "    </tr>\n",
              "  </tbody>\n",
              "</table>\n",
              "</div>"
            ],
            "text/plain": [
              "   Unnamed: 0  ...                           name\n",
              "0  0           ...  \"Great Lakes Brewing Company\"\n",
              "1  1           ...  \"Great Lakes Brewing Company\"\n",
              "\n",
              "[2 rows x 8 columns]"
            ]
          },
          "metadata": {
            "tags": []
          },
          "execution_count": 31
        }
      ]
    },
    {
      "cell_type": "code",
      "metadata": {
        "id": "ODrn66RRcKya",
        "colab_type": "code",
        "outputId": "d5b951ee-ea25-439e-b761-1d047d3647ed",
        "colab": {
          "base_uri": "https://localhost:8080/",
          "height": 261
        }
      },
      "source": [
        "comb_df.info()"
      ],
      "execution_count": 32,
      "outputs": [
        {
          "output_type": "stream",
          "text": [
            "<class 'pandas.core.frame.DataFrame'>\n",
            "RangeIndex: 66022 entries, 0 to 66021\n",
            "Data columns (total 8 columns):\n",
            " #   Column       Non-Null Count  Dtype  \n",
            "---  ------       --------------  -----  \n",
            " 0   Unnamed: 0   66022 non-null  int64  \n",
            " 1   business_id  66022 non-null  object \n",
            " 2   lem_join     66022 non-null  object \n",
            " 3   text         66022 non-null  object \n",
            " 4   target       66022 non-null  float64\n",
            " 5   text_type    66022 non-null  object \n",
            " 6   date         66022 non-null  object \n",
            " 7   name         66022 non-null  object \n",
            "dtypes: float64(1), int64(1), object(6)\n",
            "memory usage: 4.0+ MB\n"
          ],
          "name": "stdout"
        }
      ]
    },
    {
      "cell_type": "markdown",
      "metadata": {
        "id": "I4d6fL0miFao",
        "colab_type": "text"
      },
      "source": [
        "# Set up NNMF vectorizer"
      ]
    },
    {
      "cell_type": "code",
      "metadata": {
        "id": "37aX3jvjlLLc",
        "colab_type": "code",
        "colab": {}
      },
      "source": [
        "# Linking words to topics\n",
        "def word_topic(tfidf, solution, wordlist):\n",
        "    \n",
        "    # Loading scores for each word on each topic/component.\n",
        "    words_by_topic = tfidf.T * solution\n",
        "\n",
        "    # Linking the loadings to the words in an easy-to-read way.\n",
        "    comp_df=pd.DataFrame(words_by_topic,index=wordlist)\n",
        "\n",
        "    return comp_df\n",
        "\n",
        "    # Extracts the top N words and their loadings for each topic.\n",
        "def top_words(components, n_top_words):\n",
        "    \n",
        "    list_df = []\n",
        "    \n",
        "    # Go through each component\n",
        "    for column in range(components.shape[1]):\n",
        "        # Sort the column so that highest loadings are at the top.\n",
        "        sortedwords = components.iloc[:,column].sort_values(ascending=False)\n",
        "        \n",
        "        # Choose the N highest loadings.\n",
        "        chosen = sortedwords[:n_top_words].to_frame()\n",
        "        \n",
        "        # Format df\n",
        "        chosen.rename(columns={column: 'Topic {}'.format(column)}, inplace=True)\n",
        "        chosen = chosen.round(2) \n",
        "        \n",
        "        # Add to list of dataframes\n",
        "        list_df.append(chosen)\n",
        "\n",
        "    return list_df\n",
        "\n",
        "# Displays dataframes side by side for easy reading\n",
        "def display_side_by_side(table_list):\n",
        "    return HTML(\n",
        "        '<table><tr style=\"background-color:white;\">' + \n",
        "        ''.join(['<td>' + table._repr_html_() + '</td>' for table in table_list]) +\n",
        "        '</tr></table>'\n",
        "    )"
      ],
      "execution_count": 0,
      "outputs": []
    },
    {
      "cell_type": "code",
      "metadata": {
        "id": "vlf-bLsbiBHT",
        "colab_type": "code",
        "colab": {}
      },
      "source": [
        "# Split dataset\n",
        "neg_text = comb_df[comb_df.target == 0]\n",
        "pos_text = comb_df[comb_df.target == 1]"
      ],
      "execution_count": 0,
      "outputs": []
    },
    {
      "cell_type": "code",
      "metadata": {
        "id": "CwavdImNh0rO",
        "colab_type": "code",
        "colab": {}
      },
      "source": [
        "# Set up count vectorizer\n",
        "addwords = ['like', 'tell', 'ok', 'come', 'good', 'do', 'no', \n",
        "            'not', 'never', 'nothing', 'none', 'go', 'else', \n",
        "            'elsewhere', 'well',\n",
        "            ]\n",
        "\n",
        "params = {'max_df': 0.5, \n",
        "          'min_df': 2, \n",
        "          'stop_words': addwords,\n",
        "          'lowercase': True, \n",
        "          'ngram_range': (1,3)\n",
        "          }\n",
        "\n",
        "# Define vectorizers\n",
        "bow_neg = CountVectorizer(**params)\n",
        "bow_pos = CountVectorizer(**params)\n",
        "\n",
        "# Transform negative reviews and get word list\n",
        "neg_bow_list = bow_neg.fit_transform(neg_text.lem_join)\n",
        "neg_bow_terms = bow_neg.get_feature_names()\n",
        "\n",
        "# Transform positive reviews and get word list\n",
        "pos_bow_list = bow_pos.fit_transform(pos_text.lem_join)\n",
        "pos_bow_terms = bow_pos.get_feature_names()"
      ],
      "execution_count": 0,
      "outputs": []
    },
    {
      "cell_type": "code",
      "metadata": {
        "id": "ft7-9e-rhgUy",
        "colab_type": "code",
        "colab": {}
      },
      "source": [
        "# Set up NNMF\n",
        "ntopics = 6\n",
        "\n",
        "params = {'alpha': 0.0, \n",
        "          'init': 'nndsvdar',\n",
        "          'l1_ratio': 0.0, \n",
        "          'max_iter': 200, \n",
        "          'n_components': ntopics, \n",
        "          'random_state': 0, \n",
        "          'solver': 'cd', \n",
        "          'tol': 0.0001, \n",
        "          'verbose': 0}\n",
        "\n",
        "nmf_neg = NMF(**params)\n",
        "nmf_pos = NMF(**params)\n",
        "\n",
        "# Analyze negative reviews\n",
        "X_nmf_neg = nmf_neg.fit_transform(neg_bow_list) \n",
        "comp_nmf_neg = word_topic(neg_bow_list, X_nmf_neg, neg_bow_terms)\n",
        "\n",
        "# Analyze positive reviews\n",
        "X_nmf_pos = nmf_pos.fit_transform(pos_bow_list) \n",
        "comp_nmf_pos = word_topic(pos_bow_list, X_nmf_pos, pos_bow_terms)"
      ],
      "execution_count": 0,
      "outputs": []
    },
    {
      "cell_type": "markdown",
      "metadata": {
        "id": "rcYQ6z-URhkj",
        "colab_type": "text"
      },
      "source": [
        "# Choose a restaurant"
      ]
    },
    {
      "cell_type": "code",
      "metadata": {
        "id": "fz2dXWAbSBkM",
        "colab_type": "code",
        "colab": {
          "base_uri": "https://localhost:8080/",
          "height": 212
        },
        "outputId": "20033480-a5bc-4c2c-a7f8-5732f0c82355"
      },
      "source": [
        "comb_df.business_id.value_counts()"
      ],
      "execution_count": 222,
      "outputs": [
        {
          "output_type": "execute_result",
          "data": {
            "text/plain": [
              "GIfZNMP0oIJCje_Xp0Bgrw    1018\n",
              "J1RDyyPxhioqm8c_fi4P4Q    978 \n",
              "LNsZJP6jZ11e0tDljOLPiQ    911 \n",
              "meXjqyhTNLFmknY39y2sMg    860 \n",
              "_5PJ4GHIXNdUdXtohylKGQ    805 \n",
              "                         ...  \n",
              "OcXcAVjHoX0tTuzT5A8oww    3   \n",
              "SkxDv7IpQWu8xvIPK92PuA    3   \n",
              "8r9G0fUJpCFnbFWMdzzdMw    3   \n",
              "WkzB0vF7A-a17N_5pfyGJg    3   \n",
              "u-H6djIQKi73jNtFaoSuGA    3   \n",
              "Name: business_id, Length: 1025, dtype: int64"
            ]
          },
          "metadata": {
            "tags": []
          },
          "execution_count": 222
        }
      ]
    },
    {
      "cell_type": "code",
      "metadata": {
        "id": "N4e-HAUcSAD_",
        "colab_type": "code",
        "colab": {}
      },
      "source": [
        "# The Great Lakes Brewing Company\n",
        "biz = 'meXjqyhTNLFmknY39y2sMg'"
      ],
      "execution_count": 0,
      "outputs": []
    },
    {
      "cell_type": "markdown",
      "metadata": {
        "id": "4qmeuhfM6RTZ",
        "colab_type": "text"
      },
      "source": [
        "# Prepare Topic Extraction Plots"
      ]
    },
    {
      "cell_type": "code",
      "metadata": {
        "id": "CjpcAC3t1qw3",
        "colab_type": "code",
        "colab": {}
      },
      "source": [
        "# Normalize for easy reading\n",
        "X_neg_norm = pd.DataFrame(normalize(X_nmf_neg))\n",
        "X_pos_norm = pd.DataFrame(normalize(X_nmf_pos))\n",
        "\n",
        "# Combine weights and business info\n",
        "df_neg = pd.concat([neg_text.reset_index(), pd.DataFrame(X_neg_norm)], axis=1)\n",
        "df_pos = pd.concat([pos_text.reset_index(), pd.DataFrame(X_pos_norm)], axis=1)\n",
        "\n",
        "# Average weights by business\n",
        "df_agg_neg = df_neg.groupby(['business_id', 'name']).mean().reset_index()\n",
        "df_agg_pos = df_pos.groupby(['business_id', 'name']).mean().reset_index()"
      ],
      "execution_count": 0,
      "outputs": []
    },
    {
      "cell_type": "code",
      "metadata": {
        "id": "0vm_S6ouJHCE",
        "colab_type": "code",
        "colab": {}
      },
      "source": [
        "# Make plot tables\n",
        "col = range(0,6)\n",
        "\n",
        "mask = (df_agg_neg.business_id == biz)\n",
        "neg_table = df_agg_neg[mask][col].transpose().reset_index()\n",
        "\n",
        "mask = (df_agg_pos.business_id == biz)\n",
        "pos_table = df_agg_pos[mask][col].transpose().reset_index()\n",
        "\n",
        "# Rename columns\n",
        "new_names = {\n",
        "    pos_table.columns[0]: 'Topic', \n",
        "    pos_table.columns[1]: 'Weight'\n",
        "    }\n",
        "pos_table.rename(columns=new_names, inplace=True)\n",
        "\n",
        "new_names = {\n",
        "    neg_table.columns[0]: 'Topic', \n",
        "    neg_table.columns[1]: 'Weight'\n",
        "    }\n",
        "neg_table.rename(columns=new_names, inplace=True)\n",
        "\n",
        "# Name of restaurant\n",
        "pos_table['type'] = df_agg_pos[df_agg_pos.business_id == biz].name.iloc[0]\n",
        "neg_table['type'] = pos_table['type']\n",
        "\n",
        "# Add average weights to tables\n",
        "for n in col:\n",
        "    neg_table.loc[len(pos_table)] = [n, df_neg[n].mean(), 'Area Average']\n",
        "    pos_table.loc[len(pos_table)] = [n, df_pos[n].mean(), 'Area Average']"
      ],
      "execution_count": 0,
      "outputs": []
    },
    {
      "cell_type": "code",
      "metadata": {
        "id": "Q8Lg3M5QMjiJ",
        "colab_type": "code",
        "colab": {}
      },
      "source": [
        "pos_topics = ['Chicken / Clean Restaurant', \n",
        "              'Great Service, Food, & Atmosphere', \n",
        "              'Loved by Locals', 'Fast Service', \n",
        "              'Great Bar Drinks & Music', \n",
        "              'Good Pizza']\n",
        "neg_topics = ['Bad Bar Service', \n",
        "              'Bad Atmosphere', \n",
        "              'Wrong Orders', \n",
        "              'Bad Music', \n",
        "              'Slow Service', \n",
        "              'Bad Pizza']"
      ],
      "execution_count": 0,
      "outputs": []
    },
    {
      "cell_type": "code",
      "metadata": {
        "id": "mmecMjP7Ge-K",
        "colab_type": "code",
        "colab": {
          "base_uri": "https://localhost:8080/",
          "height": 557
        },
        "outputId": "138cc595-4524-4808-e928-b721d39ce2e6"
      },
      "source": [
        "plt.figure(figsize=(20,9))\n",
        "sns.barplot(x=\"Weight\", y=\"Topic\", hue='type', data=neg_table, orient='h')\n",
        "plt.yticks(range(0,6), neg_topics)\n",
        "plt.title(\"Negative Reviews\"); "
      ],
      "execution_count": 219,
      "outputs": [
        {
          "output_type": "display_data",
          "data": {
            "image/png": "[encoded data removed]",
            "text/plain": [
              "<Figure size 1440x648 with 1 Axes>"
            ]
          },
          "metadata": {
            "tags": []
          }
        }
      ]
    },
    {
      "cell_type": "code",
      "metadata": {
        "id": "EjHesmyxHsT2",
        "colab_type": "code",
        "colab": {
          "base_uri": "https://localhost:8080/",
          "height": 572
        },
        "outputId": "c65249dd-f592-4619-820f-d64da6c5080a"
      },
      "source": [
        "plt.figure(figsize=(15,9))\n",
        "sns.barplot(x=\"Weight\", y=\"Topic\", hue='type', data=pos_table, orient='h')\n",
        "plt.yticks(range(0,6), pos_topics)\n",
        "plt.title(\"Positive Reviews\"); "
      ],
      "execution_count": 214,
      "outputs": [
        {
          "output_type": "display_data",
          "data": {
            "image/png": "[encoded data removed]",
            "text/plain": [
              "<Figure size 1080x648 with 1 Axes>"
            ]
          },
          "metadata": {
            "tags": []
          }
        }
      ]
    },
    {
      "cell_type": "markdown",
      "metadata": {
        "id": "QCSzY1jrPvSU",
        "colab_type": "text"
      },
      "source": [
        "We can see when looking at the Great Lakes Brewing Company that their bar scene is a major contribution to their success as well as the food and atmosphere. We can see that people have issues with their bar music. And even if they have great service, a lot of their negative reviews also come from bad service as well."
      ]
    },
    {
      "cell_type": "markdown",
      "metadata": {
        "id": "UGK5Kaw_3uLa",
        "colab_type": "text"
      },
      "source": [
        "# Conclusion\n",
        "\n",
        "In notebooks 2 and 3, I left conclusions for each phase of the project. In this notebook, I'd like to discuss how this project as a whole can be improved an expanded. The beauty of this project is it isn't limited to restaurants. We can train the sentiment classifier and topic extractor to work with other types of businesses as well. In addition, we could expand this project into more than one city. Because we only had Yelp tips to work with, we didn't get to see how the sentiment classifier with fare with unlabeled reviews from other media sources.\n"
      ]
    }
  ]
}