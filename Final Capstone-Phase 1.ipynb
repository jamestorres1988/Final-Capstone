{
 "cells": [
  {
   "cell_type": "code",
   "execution_count": 1,
   "metadata": {},
   "outputs": [],
   "source": [
    "# basic libraries\n",
    "import numpy as np\n",
    "import pandas as pd\n",
    "import matplotlib.pyplot as plt\n",
    "import seaborn as sns \n",
    "from collections import Counter\n",
    "from IPython.display import display_html\n",
    "import warnings\n",
    "\n",
    "warnings.filterwarnings('ignore', category=FutureWarning)\n",
    "sns.set(style=\"whitegrid\")\n",
    "\n",
    "# supervised learning models\n",
    "from sklearn import ensemble\n",
    "from sklearn import tree\n",
    "from sklearn.linear_model import LogisticRegression\n",
    "from sklearn.linear_model import SGDClassifier\n",
    "from sklearn.naive_bayes import MultinomialNB\n",
    "\n",
    "from sklearn.metrics import classification_report\n",
    "from sklearn.metrics import confusion_matrix\n",
    "from sklearn.metrics import f1_score\n",
    "from sklearn.metrics import roc_curve\n",
    "from sklearn.metrics import auc\n",
    "from sklearn.model_selection import cross_val_score\n",
    "from sklearn.model_selection import GridSearchCV\n",
    "from sklearn.model_selection import train_test_split\n",
    "from sklearn.model_selection import StratifiedKFold\n",
    "from sklearn.pipeline import make_pipeline\n",
    "from sklearn.preprocessing import Normalizer\n",
    "\n",
    "# deep neutral network\n",
    "import tensorflow as tf\n",
    "from tensorflow.keras import layers\n",
    "from tensorflow.keras.models import Sequential\n",
    "from tensorflow.keras.layers import LSTM\n",
    "from tensorflow.keras.layers import Dense\n",
    "from tensorflow.keras.layers import Dropout\n",
    "from tensorflow.keras.layers import SpatialDropout1D\n",
    "from tensorflow.keras.layers import Embedding\n",
    "from tensorflow.keras.preprocessing.text import Tokenizer\n",
    "from tensorflow.keras.preprocessing.sequence import pad_sequences\n",
    "\n",
    "# text manipulation tools\n",
    "from sklearn.feature_extraction.text import TfidfVectorizer\n",
    "from sklearn.feature_extraction.text import CountVectorizer\n",
    "from sklearn.decomposition import TruncatedSVD\n",
    "from sklearn.decomposition import LatentDirichletAllocation as LDA\n",
    "from sklearn.decomposition import NMF\n",
    "import spacy\n",
    "from wordcloud import WordCloud"
   ]
  },
  {
   "cell_type": "code",
   "execution_count": null,
   "metadata": {},
   "outputs": [],
   "source": [
    "# Load and Clean Dataset"
   ]
  },
  {
   "cell_type": "code",
   "execution_count": null,
   "metadata": {},
   "outputs": [],
   "source": [
    "path = \"C:\\\\Users\\\\James\\\\Desktop\\\\Data_Folder\\\\yelp\\\\\"\n",
    "\n",
    "biz=pd.read_csv(path + \"yelp_business.csv\")\n",
    "reviews=pd.read_csv(path + \"yelp_review.csv\")"
   ]
  },
  {
   "cell_type": "code",
   "execution_count": null,
   "metadata": {},
   "outputs": [],
   "source": [
    "#biz_attributes=pd.read_csv(path + \"yelp_biz_attributes.csv\")\n",
    "#biz_hours=pd.read_csv(path + \"yelp_biz_hours.csv\")\n",
    "#check_in=pd.read_csv(path + \"yelp_checkin.csv\")\n",
    "#tip=pd.read_csv(path + \"yelp_tip.csv\")\n",
    "#user=pd.read_csv(path + \"yelp_user.csv\")"
   ]
  },
  {
   "cell_type": "code",
   "execution_count": null,
   "metadata": {},
   "outputs": [],
   "source": [
    "reviews.info()"
   ]
  },
  {
   "cell_type": "code",
   "execution_count": null,
   "metadata": {},
   "outputs": [],
   "source": [
    "biz.info()"
   ]
  },
  {
   "cell_type": "code",
   "execution_count": null,
   "metadata": {},
   "outputs": [],
   "source": [
    "# load dataset\n",
    "biz=pd.read_csv(path + \"yelp_business.csv\")\n",
    "\n",
    "# remove unnecessary columns; note that stars is total stars for biz\n",
    "col = ['neighborhood', 'address', 'latitude', 'longitude', 'stars']\n",
    "biz.drop(columns=col, inplace=True)       \n",
    "\n",
    "# update categories so that it's a list and not a string\n",
    "biz.categories = biz.categories.apply(lambda x: x.split(\";\"))\n",
    "\n",
    "# we will filter open restaurants in Phoenix, AZ only\n",
    "biz = biz[\n",
    "    (biz.city == 'Cleveland') & \n",
    "    (biz.state == 'OH') & \n",
    "    (biz.is_open == 1) & \n",
    "    (biz.categories.apply(\n",
    "        lambda x: True if 'Restaurants' in x else False\n",
    "    ))]"
   ]
  },
  {
   "cell_type": "code",
   "execution_count": null,
   "metadata": {},
   "outputs": [],
   "source": [
    "df = pd.merge(reviews, biz, how='inner', on='business_id')\n",
    "df.head()"
   ]
  },
  {
   "cell_type": "code",
   "execution_count": null,
   "metadata": {},
   "outputs": [],
   "source": [
    "# still have a lot of rows and no null values\n",
    "df.info()"
   ]
  },
  {
   "cell_type": "markdown",
   "metadata": {},
   "source": [
    "# Exploratory Data Analysis\n",
    "\n",
    "## Text Preprocessing"
   ]
  },
  {
   "cell_type": "code",
   "execution_count": null,
   "metadata": {},
   "outputs": [],
   "source": [
    "# removes punctation, stops words, and lemmatizes\n",
    "def lemma(text):\n",
    "    lem_text = []\n",
    "    \n",
    "    for token in text:\n",
    "        if (not token.is_punct and \n",
    "            not token.is_stop and \n",
    "            not token.like_email and\n",
    "            not token.like_url and\n",
    "            token.lemma not in nlp.Defaults.stop_words): \n",
    "            lem_text.append(token.lemma_.lower())\n",
    "    \n",
    "    return \" \".join(lem_text)"
   ]
  },
  {
   "cell_type": "code",
   "execution_count": null,
   "metadata": {},
   "outputs": [],
   "source": [
    "# let's create lemmatized sentences\n",
    "nlp = spacy.load(\"en_core_web_sm\")\n",
    "df['lem_join'] = df.text.apply(lambda x: lemma(nlp(x)))\n",
    "\n",
    "df.head()"
   ]
  },
  {
   "cell_type": "code",
   "execution_count": null,
   "metadata": {},
   "outputs": [],
   "source": [
    "# we can't have lists in feather format\n",
    "df.drop(columns='categories', inplace=True)  \n",
    "\n",
    "# create feather backup\n",
    "df.reset_index(drop=True).to_feather('yelp_reviews.feather')"
   ]
  },
  {
   "cell_type": "markdown",
   "metadata": {},
   "source": [
    "# +++++++ Start Here +++++++++"
   ]
  },
  {
   "cell_type": "code",
   "execution_count": 2,
   "metadata": {},
   "outputs": [],
   "source": [
    "df = pd.read_feather('yelp_reviews.feather')"
   ]
  },
  {
   "cell_type": "markdown",
   "metadata": {},
   "source": [
    "## Explore the Data"
   ]
  },
  {
   "cell_type": "code",
   "execution_count": 3,
   "metadata": {},
   "outputs": [
    {
     "data": {
      "image/png": "[encoded data removed]",
      "text/plain": [
       "<Figure size 648x648 with 1 Axes>"
      ]
     },
     "metadata": {},
     "output_type": "display_data"
    }
   ],
   "source": [
    "plt.figure(figsize=(9,9))\n",
    "sns.countplot(x='stars', data=df)\n",
    "plt.ylabel('# of reviews')\n",
    "plt.xlabel('Star Rating ')\n",
    "plt.title(\"Star Rating Distribution\");"
   ]
  },
  {
   "cell_type": "code",
   "execution_count": 4,
   "metadata": {},
   "outputs": [],
   "source": [
    "df['target'] = df['stars'].apply(lambda x: 0 if x >= 4 else 1)"
   ]
  },
  {
   "cell_type": "code",
   "execution_count": 5,
   "metadata": {},
   "outputs": [
    {
     "data": {
      "image/png": "[encoded data removed]",
      "text/plain": [
       "<Figure size 648x648 with 1 Axes>"
      ]
     },
     "metadata": {},
     "output_type": "display_data"
    }
   ],
   "source": [
    "plt.figure(figsize=(9,9))\n",
    "sns.countplot(x='target', data=df)\n",
    "plt.ylabel('# of reviews')\n",
    "plt.xlabel('Star Rating ')\n",
    "plt.title(\"Star Rating Distribution\");"
   ]
  },
  {
   "cell_type": "code",
   "execution_count": 6,
   "metadata": {},
   "outputs": [
    {
     "data": {
      "text/plain": [
       "'\\ncombined_words = \\'\\'\\n\\nfor review in df.lem_join:\\n    combined_words += review + \" \"\\n    \\nwordcloud = WordCloud(width = 800, \\n                      height = 800, \\n                      background_color =\\'white\\', \\n                      min_font_size = 10).generate(combined_words)    \\n'"
      ]
     },
     "execution_count": 6,
     "metadata": {},
     "output_type": "execute_result"
    }
   ],
   "source": [
    "'''\n",
    "combined_words = ''\n",
    "\n",
    "for review in df.lem_join:\n",
    "    combined_words += review + \" \"\n",
    "    \n",
    "wordcloud = WordCloud(width = 800, \n",
    "                      height = 800, \n",
    "                      background_color ='white', \n",
    "                      min_font_size = 10).generate(combined_words)    \n",
    "'''"
   ]
  },
  {
   "cell_type": "code",
   "execution_count": 7,
   "metadata": {},
   "outputs": [
    {
     "data": {
      "text/plain": [
       "'\\n# plot the WordCloud image                        \\nplt.figure(figsize = (8, 8), facecolor = None) \\nplt.imshow(wordcloud) \\nplt.axis(\"off\") \\nplt.tight_layout(pad = 0) \\n'"
      ]
     },
     "execution_count": 7,
     "metadata": {},
     "output_type": "execute_result"
    }
   ],
   "source": [
    "'''\n",
    "# plot the WordCloud image                        \n",
    "plt.figure(figsize = (8, 8), facecolor = None) \n",
    "plt.imshow(wordcloud) \n",
    "plt.axis(\"off\") \n",
    "plt.tight_layout(pad = 0) \n",
    "'''"
   ]
  },
  {
   "cell_type": "markdown",
   "metadata": {},
   "source": [
    "## Train-test split the data"
   ]
  },
  {
   "cell_type": "code",
   "execution_count": 8,
   "metadata": {},
   "outputs": [],
   "source": [
    "# declare X & Y\n",
    "Y = df['target']\n",
    "X = df['lem_join']\n",
    "\n",
    "# let's stratify the data so we get a fair balance\n",
    "X_train, X_test, y_train, y_test = train_test_split(\n",
    "    X, Y, test_size=0.25, random_state=42, stratify=Y\n",
    ")"
   ]
  },
  {
   "cell_type": "markdown",
   "metadata": {},
   "source": [
    "## Prep BoW"
   ]
  },
  {
   "cell_type": "code",
   "execution_count": 9,
   "metadata": {},
   "outputs": [],
   "source": [
    "def BoW_generator(text):\n",
    "    \n",
    "    # get the top 2000 words\n",
    "    n_top_words = 2000\n",
    "    count_vec = CountVectorizer(max_features=n_top_words)\n",
    "    mask = count_vec.fit_transform(text)\n",
    "    \n",
    "    # create a dataframe\n",
    "    word_counts = pd.DataFrame(\n",
    "        mask.toarray().reshape(-1, n_top_words), \n",
    "        columns=count_vec.get_feature_names()\n",
    "    )  \n",
    "    \n",
    "    return word_counts"
   ]
  },
  {
   "cell_type": "code",
   "execution_count": 10,
   "metadata": {},
   "outputs": [],
   "source": [
    "# get the top 2000 words\n",
    "n_top_words = 2000\n",
    "count_vec = CountVectorizer(max_features=n_top_words)\n",
    "\n",
    "# apply to X values\n",
    "X_train_bow = count_vec.fit_transform(X_train)\n",
    "X_test_bow = count_vec.transform(X_test)"
   ]
  },
  {
   "cell_type": "markdown",
   "metadata": {},
   "source": [
    "## Prep Tf-Idf"
   ]
  },
  {
   "cell_type": "code",
   "execution_count": 11,
   "metadata": {},
   "outputs": [],
   "source": [
    "tfidf_vec = TfidfVectorizer(\n",
    "    max_df=0.5, \n",
    "    min_df=2,\n",
    "    stop_words='english', \n",
    "    lowercase=True,\n",
    "    use_idf=True,\n",
    "    norm=u'l2',\n",
    "    smooth_idf=True\n",
    ")"
   ]
  },
  {
   "cell_type": "code",
   "execution_count": 12,
   "metadata": {},
   "outputs": [],
   "source": [
    "# applying to X values\n",
    "X_train_tfidf=tfidf_vec.fit_transform(X_train)\n",
    "X_test_tfidf=tfidf_vec.transform(X_test)"
   ]
  },
  {
   "cell_type": "markdown",
   "metadata": {},
   "source": [
    "# Phase 1: Sentiment Analysis of Yelp Reviews"
   ]
  },
  {
   "cell_type": "code",
   "execution_count": 13,
   "metadata": {},
   "outputs": [],
   "source": [
    "def model_metrics(model, X, y):\n",
    "    model_sum = {}\n",
    "    \n",
    "    # get cross validation score & mean of CV score\n",
    "    cv_score = cross_val_score(model, X, y, cv=10, n_jobs=-1)\n",
    "    \n",
    "    model_sum['cv_scores'] = list(cv_score)\n",
    "    model_sum['cv_mean'] = np.mean(cv_score)\n",
    "    \n",
    "    # get confusion matrix metrics\n",
    "    y_pred = model.predict(X)\n",
    "    tn, fp, fn, tp = confusion_matrix(y, y_pred).ravel()\n",
    "    \n",
    "    model_sum['true negatives'] = tn\n",
    "    model_sum['false positives'] = fp\n",
    "    model_sum['false negatives'] = fn\n",
    "    model_sum['true positives'] = tp\n",
    "    model_sum['accuracy'] = (tp+tn)/len(y_pred)\n",
    "    model_sum['f1 score'] = 2*tp/(2*tp+fp+fn)\n",
    "    model_sum['class_report'] = classification_report(y, y_pred)\n",
    "    \n",
    "    return model_sum"
   ]
  },
  {
   "cell_type": "code",
   "execution_count": 14,
   "metadata": {},
   "outputs": [],
   "source": [
    "def format_metrics(model_sum):\n",
    "    # print cross-validation scores\n",
    "    print(\"Cross Validation Scores\\n\" + 23*\"=\" + \"\\n{}\\n\".format(model_sum['cv_scores']))\n",
    "    print(\"Average CV = {}\\n\".format(model_sum['cv_mean']))\n",
    "    \n",
    "    # print classification report\n",
    "    print(\"Classification Report\\n\" + 21*\"=\" + \"\\n\" + model_sum['class_report'])\n",
    "    \n",
    "    # print confusion matrix results\n",
    "    print(\"Confusion Matrix\\n\" + 16*\"=\" + '\\nTrue Positives = {}\\nTrue Negatives'\\\n",
    "          '= {}\\nFalse Positives = {}\\nFalse Negatives = {}'\\\n",
    "          .format(model_sum['true positives'], \n",
    "                  model_sum['true negatives'], \n",
    "                  model_sum['false positives'], \n",
    "                  model_sum['false negatives']))"
   ]
  },
  {
   "cell_type": "markdown",
   "metadata": {},
   "source": [
    "## Logistic Regression"
   ]
  },
  {
   "cell_type": "code",
   "execution_count": 15,
   "metadata": {},
   "outputs": [],
   "source": [
    "# set parameters\n",
    "params = {\n",
    "    'penalty': 'l2',\n",
    "    'fit_intercept': True, \n",
    "    'max_iter': 50, \n",
    "    'n_jobs':-1, \n",
    "    'dual': False\n",
    "}"
   ]
  },
  {
   "cell_type": "code",
   "execution_count": 16,
   "metadata": {},
   "outputs": [
    {
     "name": "stdout",
     "output_type": "stream",
     "text": [
      "Logistic Regression Model (BoW)\n",
      "Cross Validation Scores\n",
      "=======================\n",
      "[0.8683532443195128, 0.8793628484422581, 0.8798031865042174, 0.8690253045923149, 0.877460168697282, 0.8734770384254921, 0.880037488284911, 0.8697282099343955, 0.8762886597938144, 0.876991565135895]\n",
      "\n",
      "Average CV = 0.8750527714130094\n",
      "\n",
      "Classification Report\n",
      "=====================\n",
      "              precision    recall  f1-score   support\n",
      "\n",
      "           0       0.90      0.95      0.93     28665\n",
      "           1       0.88      0.79      0.84     14017\n",
      "\n",
      "    accuracy                           0.90     42682\n",
      "   macro avg       0.89      0.87      0.88     42682\n",
      "weighted avg       0.90      0.90      0.90     42682\n",
      "\n",
      "Confusion Matrix\n",
      "================\n",
      "True Positives = 11142\n",
      "True Negatives= 27158\n",
      "False Positives = 1507\n",
      "False Negatives = 2875\n",
      "\n",
      "\n",
      "Logistic Regression Model (Tf-Idf)\n",
      "Cross Validation Scores\n",
      "=======================\n",
      "[0.8746779105176856, 0.8831107987819161, 0.8863636363636364, 0.8821462043111528, 0.8802717900656045, 0.8823805060918463, 0.8851921274601687, 0.877460168697282, 0.8882380506091846, 0.8812089971883786]\n",
      "\n",
      "Average CV = 0.8821050190086857\n",
      "\n",
      "Classification Report\n",
      "=====================\n",
      "              precision    recall  f1-score   support\n",
      "\n",
      "           0       0.91      0.96      0.93     28665\n",
      "           1       0.90      0.80      0.85     14017\n",
      "\n",
      "    accuracy                           0.91     42682\n",
      "   macro avg       0.90      0.88      0.89     42682\n",
      "weighted avg       0.91      0.91      0.90     42682\n",
      "\n",
      "Confusion Matrix\n",
      "================\n",
      "True Positives = 11222\n",
      "True Negatives= 27450\n",
      "False Positives = 1215\n",
      "False Negatives = 2795\n"
     ]
    }
   ],
   "source": [
    "lrm_model1 = LogisticRegression(**params)\n",
    "lrm_model2 = LogisticRegression(**params)\n",
    "\n",
    "# fit both models\n",
    "lrm_model1.fit(X_train_bow, y_train)\n",
    "lrm_model2.fit(X_train_tfidf, y_train)\n",
    "\n",
    "# prep and display metrics\n",
    "lrm_results_bow = model_metrics(lrm_model1, X_train_bow, y_train)\n",
    "lrm_results_tfidf = model_metrics(lrm_model2, X_train_tfidf, y_train)\n",
    "\n",
    "print('Logistic Regression Model (BoW)')\n",
    "format_metrics(lrm_results_bow)\n",
    "\n",
    "print('\\n\\nLogistic Regression Model (Tf-Idf)')\n",
    "format_metrics(lrm_results_tfidf)"
   ]
  },
  {
   "cell_type": "markdown",
   "metadata": {},
   "source": [
    "## Naive Bayes Classification"
   ]
  },
  {
   "cell_type": "code",
   "execution_count": 17,
   "metadata": {},
   "outputs": [],
   "source": [
    "# set parameters\n",
    "params = {\n",
    "}"
   ]
  },
  {
   "cell_type": "code",
   "execution_count": 18,
   "metadata": {},
   "outputs": [
    {
     "name": "stdout",
     "output_type": "stream",
     "text": [
      "Naive Bayes Model (BoW)\n",
      "Cross Validation Scores\n",
      "=======================\n",
      "[0.8535956898571094, 0.8571093933005388, 0.8596532333645736, 0.862933458294283, 0.8645735707591378, 0.8591846298031866, 0.8535613870665417, 0.8530927835051546, 0.8608247422680413, 0.852389878163074]\n",
      "\n",
      "Average CV = 0.857691876638164\n",
      "\n",
      "Classification Report\n",
      "=====================\n",
      "              precision    recall  f1-score   support\n",
      "\n",
      "           0       0.88      0.92      0.90     28665\n",
      "           1       0.81      0.75      0.78     14017\n",
      "\n",
      "    accuracy                           0.86     42682\n",
      "   macro avg       0.85      0.83      0.84     42682\n",
      "weighted avg       0.86      0.86      0.86     42682\n",
      "\n",
      "Confusion Matrix\n",
      "================\n",
      "True Positives = 10495\n",
      "True Negatives= 26264\n",
      "False Positives = 2401\n",
      "False Negatives = 3522\n",
      "\n",
      "\n",
      "Naive Bayes Model (Tf-Idf)\n",
      "Cross Validation Scores\n",
      "=======================\n",
      "[0.8280627781681893, 0.8327477160927618, 0.8329428303655108, 0.8315370196813496, 0.8329428303655108, 0.8324742268041238, 0.834817244611059, 0.8284910965323337, 0.8320056232427366, 0.8364573570759137]\n",
      "\n",
      "Average CV = 0.8322478722939488\n",
      "\n",
      "Classification Report\n",
      "=====================\n",
      "              precision    recall  f1-score   support\n",
      "\n",
      "           0       0.83      0.98      0.90     28665\n",
      "           1       0.94      0.58      0.72     14017\n",
      "\n",
      "    accuracy                           0.85     42682\n",
      "   macro avg       0.89      0.78      0.81     42682\n",
      "weighted avg       0.87      0.85      0.84     42682\n",
      "\n",
      "Confusion Matrix\n",
      "================\n",
      "True Positives = 8185\n",
      "True Negatives= 28159\n",
      "False Positives = 506\n",
      "False Negatives = 5832\n"
     ]
    }
   ],
   "source": [
    "clf_model1 = MultinomialNB(**params)\n",
    "clf_model2 = MultinomialNB(**params)\n",
    "\n",
    "# fit both models\n",
    "clf_model1.fit(X_train_bow, y_train)\n",
    "clf_model2.fit(X_train_tfidf, y_train)\n",
    "\n",
    "# prep and display metrics\n",
    "clf_results_bow = model_metrics(clf_model1, X_train_bow, y_train)\n",
    "clf_results_tfidf = model_metrics(clf_model2, X_train_tfidf, y_train)\n",
    "\n",
    "print('Naive Bayes Model (BoW)')\n",
    "format_metrics(clf_results_bow)\n",
    "\n",
    "print('\\n\\nNaive Bayes Model (Tf-Idf)')\n",
    "format_metrics(clf_results_tfidf)"
   ]
  },
  {
   "cell_type": "markdown",
   "metadata": {},
   "source": [
    "## Linear Support Vector Classification"
   ]
  },
  {
   "cell_type": "code",
   "execution_count": 19,
   "metadata": {},
   "outputs": [],
   "source": [
    "params = {\n",
    "    'loss': 'log', \n",
    "    'penalty': 'l2', \n",
    "    'alpha': 1e-3, \n",
    "    'random_state': 42, \n",
    "    'max_iter': 5, \n",
    "    'tol': None\n",
    "}"
   ]
  },
  {
   "cell_type": "code",
   "execution_count": 20,
   "metadata": {},
   "outputs": [
    {
     "name": "stdout",
     "output_type": "stream",
     "text": [
      "Support Vector Classification Model (BoW)\n",
      "Cross Validation Scores\n",
      "=======================\n",
      "[0.8674162567345982, 0.880065589130944, 0.8793345829428304, 0.8727741330834115, 0.8767572633552015, 0.8786316776007498, 0.8760543580131209, 0.8666822867853796, 0.8791002811621368, 0.8701968134957826]\n",
      "\n",
      "Average CV = 0.8747013242304155\n",
      "\n",
      "Classification Report\n",
      "=====================\n",
      "              precision    recall  f1-score   support\n",
      "\n",
      "           0       0.89      0.95      0.92     28665\n",
      "           1       0.87      0.77      0.82     14017\n",
      "\n",
      "    accuracy                           0.89     42682\n",
      "   macro avg       0.88      0.86      0.87     42682\n",
      "weighted avg       0.89      0.89      0.89     42682\n",
      "\n",
      "Confusion Matrix\n",
      "================\n",
      "True Positives = 10769\n",
      "True Negatives= 27096\n",
      "False Positives = 1569\n",
      "False Negatives = 3248\n",
      "\n",
      "\n",
      "Support Vector Classification Model (Tf-Idf)\n",
      "Cross Validation Scores\n",
      "=======================\n",
      "[0.7819161396111501, 0.7887092996017803, 0.7933458294283037, 0.796157450796626, 0.7902999062792877, 0.7910028116213683, 0.7919400187441424, 0.7806935332708529, 0.7917057169634489, 0.7888940955951266]\n",
      "\n",
      "Average CV = 0.7894664801912087\n",
      "\n",
      "Classification Report\n",
      "=====================\n",
      "              precision    recall  f1-score   support\n",
      "\n",
      "           0       0.77      0.99      0.87     28665\n",
      "           1       0.95      0.39      0.55     14017\n",
      "\n",
      "    accuracy                           0.79     42682\n",
      "   macro avg       0.86      0.69      0.71     42682\n",
      "weighted avg       0.83      0.79      0.76     42682\n",
      "\n",
      "Confusion Matrix\n",
      "================\n",
      "True Positives = 5457\n",
      "True Negatives= 28383\n",
      "False Positives = 282\n",
      "False Negatives = 8560\n"
     ]
    }
   ],
   "source": [
    "svc_model1 = SGDClassifier(**params)\n",
    "svc_model2 = SGDClassifier(**params)\n",
    "\n",
    "# fit both models\n",
    "svc_model1.fit(X_train_bow, y_train)\n",
    "svc_model2.fit(X_train_tfidf, y_train)\n",
    "\n",
    "# prep and display metrics\n",
    "svc_results_bow = model_metrics(svc_model1, X_train_bow, y_train)\n",
    "svc_results_tfidf = model_metrics(svc_model2, X_train_tfidf, y_train)\n",
    "\n",
    "print('Support Vector Classification Model (BoW)')\n",
    "format_metrics(svc_results_bow)\n",
    "\n",
    "print('\\n\\nSupport Vector Classification Model (Tf-Idf)')\n",
    "format_metrics(svc_results_tfidf)"
   ]
  },
  {
   "cell_type": "markdown",
   "metadata": {},
   "source": [
    "## LSTM in Keras"
   ]
  },
  {
   "cell_type": "code",
   "execution_count": 21,
   "metadata": {},
   "outputs": [],
   "source": [
    "# this will create and set parameters of Keras model\n",
    "def create_keras_model(X):\n",
    "    input_dim = X.shape[1]\n",
    "    model = Sequential()\n",
    "    model.add(layers.Dense(10, input_dim=input_dim, activation='relu'))\n",
    "    model.add(layers.Dense(1, activation='sigmoid'))\n",
    "    model.compile(loss='binary_crossentropy', \n",
    "                  optimizer='adam', \n",
    "                  metrics=['accuracy'])\n",
    "    return model \n",
    "\n",
    "# this will fit and evaluate keras model\n",
    "def fit_eval_keras(X, y):\n",
    "    \n",
    "    # set up variables\n",
    "    n_splits = 10\n",
    "    kfold = StratifiedKFold(\n",
    "        n_splits=n_splits, \n",
    "        shuffle=True, \n",
    "        random_state=42\n",
    "    )\n",
    "    \n",
    "    y_predict = np.zeros((X.shape[0], 1))\n",
    "    proba = np.zeros((X.shape[0], 1))\n",
    "    models = []\n",
    "    cv_score = []\n",
    "    fold = 1\n",
    "    for train, test in kfold.split(X, y):\n",
    "        # set up Keras model\n",
    "        model = create_keras_model(X[train])\n",
    "        \n",
    "        # fit each model\n",
    "        model.fit(X[train], y[train], epochs=10, batch_size=200, verbose=0)\n",
    "        \n",
    "        # get prediction for each model\n",
    "        predict = model.predict(X)\n",
    "        y_predict += predict\n",
    "        \n",
    "        # get probablities for roc plot\n",
    "        proba = model.predict_proba(X)\n",
    "        \n",
    "        # get cv scores\n",
    "        scores = model.evaluate(X[test], y[test], verbose=0)\n",
    "        cv_score.append(scores[1])\n",
    "        \n",
    "        print(f'Fold {fold} out of {n_splits} complete!')\n",
    "        fold += 1\n",
    "    \n",
    "    # get average prediction of each model\n",
    "    y_predict /= n_splits\n",
    "    proba /= n_splits\n",
    "    \n",
    "    # create confusion matrix\n",
    "    tn, fp, fn, tp = confusion_matrix(y, y_predict.round()).ravel()\n",
    "    \n",
    "    # save metrics in a dictionary\n",
    "    model_sum = {}\n",
    "    \n",
    "    model_sum['cv_scores'] = cv_score\n",
    "    model_sum['cv_mean'] = np.mean(cv_score)\n",
    "    \n",
    "    model_sum['true negatives'] = tn\n",
    "    model_sum['false positives'] = fp\n",
    "    model_sum['false negatives'] = fn\n",
    "    model_sum['true positives'] = tp\n",
    "    model_sum['accuracy'] = (tp+tn)/len(y_predict)\n",
    "    model_sum['f1 score'] = 2*tp/(2*tp+fp+fn)\n",
    "    model_sum['class_report'] = classification_report(y, y_predict.round())\n",
    "    \n",
    "    print('Evaluation Complete\\n')\n",
    "    # submit ensemble\n",
    "    return [model_sum, proba]"
   ]
  },
  {
   "cell_type": "code",
   "execution_count": 23,
   "metadata": {
    "scrolled": false
   },
   "outputs": [
    {
     "name": "stdout",
     "output_type": "stream",
     "text": [
      "WARNING:tensorflow:From C:\\Users\\James\\Anaconda3\\envs\\tf\\lib\\site-packages\\tensorflow\\python\\ops\\math_ops.py:3066: to_int32 (from tensorflow.python.ops.math_ops) is deprecated and will be removed in a future version.\n",
      "Instructions for updating:\n",
      "Use tf.cast instead.\n",
      "Fold 1 out of 10 complete!\n",
      "Fold 2 out of 10 complete!\n",
      "Fold 3 out of 10 complete!\n",
      "Fold 4 out of 10 complete!\n",
      "Fold 5 out of 10 complete!\n",
      "Fold 6 out of 10 complete!\n",
      "Fold 7 out of 10 complete!\n",
      "Fold 8 out of 10 complete!\n",
      "Fold 9 out of 10 complete!\n",
      "Fold 10 out of 10 complete!\n",
      "Evaluation Complete\n",
      "\n",
      "Fold 1 out of 10 complete!\n",
      "Fold 2 out of 10 complete!\n",
      "Fold 3 out of 10 complete!\n",
      "Fold 4 out of 10 complete!\n",
      "Fold 5 out of 10 complete!\n",
      "Fold 6 out of 10 complete!\n",
      "Fold 7 out of 10 complete!\n",
      "Fold 8 out of 10 complete!\n",
      "Fold 9 out of 10 complete!\n",
      "Fold 10 out of 10 complete!\n",
      "Evaluation Complete\n",
      "\n",
      "Keras Classification Model (BoW)\n",
      "Cross Validation Scores\n",
      "=======================\n",
      "[0.8760834, 0.86882174, 0.8781631, 0.8725398, 0.8685567, 0.8776945, 0.8779288, 0.8692596, 0.8723055, 0.87582004]\n",
      "\n",
      "Average CV = 0.873717188835144\n",
      "\n",
      "Classification Report\n",
      "=====================\n",
      "              precision    recall  f1-score   support\n",
      "\n",
      "           0       0.91      0.95      0.93     28665\n",
      "           1       0.88      0.80      0.84     14017\n",
      "\n",
      "    accuracy                           0.90     42682\n",
      "   macro avg       0.90      0.88      0.88     42682\n",
      "weighted avg       0.90      0.90      0.90     42682\n",
      "\n",
      "Confusion Matrix\n",
      "================\n",
      "True Positives = 11237\n",
      "True Negatives= 27189\n",
      "False Positives = 1476\n",
      "False Negatives = 2780\n",
      "\n",
      "\n",
      "Keras Classification Model (Tf-Idf)\n",
      "Cross Validation Scores\n",
      "=======================\n",
      "[0.8767861, 0.88475055, 0.8819119, 0.8779288, 0.8746486, 0.87628865, 0.88659793, 0.8699625, 0.8716026, 0.8861293]\n",
      "\n",
      "Average CV = 0.8786606788635254\n",
      "\n",
      "Classification Report\n",
      "=====================\n",
      "              precision    recall  f1-score   support\n",
      "\n",
      "           0       0.95      0.97      0.96     28665\n",
      "           1       0.93      0.89      0.91     14017\n",
      "\n",
      "    accuracy                           0.94     42682\n",
      "   macro avg       0.94      0.93      0.93     42682\n",
      "weighted avg       0.94      0.94      0.94     42682\n",
      "\n",
      "Confusion Matrix\n",
      "================\n",
      "True Positives = 12493\n",
      "True Negatives= 27752\n",
      "False Positives = 913\n",
      "False Negatives = 1524\n"
     ]
    }
   ],
   "source": [
    "keras_results_bow = fit_eval_keras(X_train_bow, y_train.factorize()[0])\n",
    "keras_results_tfidf = fit_eval_keras(X_train_tfidf, y_train.factorize()[0])\n",
    "\n",
    "print('Keras Classification Model (BoW)')\n",
    "format_metrics(keras_results_bow[0])\n",
    "\n",
    "print('\\n\\nKeras Classification Model (Tf-Idf)')\n",
    "format_metrics(keras_results_tfidf[0])"
   ]
  },
  {
   "cell_type": "markdown",
   "metadata": {},
   "source": [
    "# Summary of results"
   ]
  },
  {
   "cell_type": "code",
   "execution_count": 24,
   "metadata": {},
   "outputs": [
    {
     "data": {
      "text/html": [
       "<div>\n",
       "<style scoped>\n",
       "    .dataframe tbody tr th:only-of-type {\n",
       "        vertical-align: middle;\n",
       "    }\n",
       "\n",
       "    .dataframe tbody tr th {\n",
       "        vertical-align: top;\n",
       "    }\n",
       "\n",
       "    .dataframe thead th {\n",
       "        text-align: right;\n",
       "    }\n",
       "</style>\n",
       "<table border=\"1\" class=\"dataframe\">\n",
       "  <thead>\n",
       "    <tr style=\"text-align: right;\">\n",
       "      <th></th>\n",
       "      <th>cv_mean</th>\n",
       "      <th>accuracy</th>\n",
       "      <th>f1 score</th>\n",
       "      <th>true positives</th>\n",
       "      <th>true negatives</th>\n",
       "      <th>false positives</th>\n",
       "      <th>false negatives</th>\n",
       "    </tr>\n",
       "  </thead>\n",
       "  <tbody>\n",
       "    <tr>\n",
       "      <th>Logistic Regression Model (BoW)</th>\n",
       "      <td>0.875053</td>\n",
       "      <td>0.897334</td>\n",
       "      <td>0.835671</td>\n",
       "      <td>11142</td>\n",
       "      <td>27158</td>\n",
       "      <td>1507</td>\n",
       "      <td>2875</td>\n",
       "    </tr>\n",
       "    <tr>\n",
       "      <th>Logistic Regression Model (Tf-Idf)</th>\n",
       "      <td>0.882105</td>\n",
       "      <td>0.906049</td>\n",
       "      <td>0.848416</td>\n",
       "      <td>11222</td>\n",
       "      <td>27450</td>\n",
       "      <td>1215</td>\n",
       "      <td>2795</td>\n",
       "    </tr>\n",
       "    <tr>\n",
       "      <th>Naive Bayes Model (BoW)</th>\n",
       "      <td>0.857692</td>\n",
       "      <td>0.861230</td>\n",
       "      <td>0.779920</td>\n",
       "      <td>10495</td>\n",
       "      <td>26264</td>\n",
       "      <td>2401</td>\n",
       "      <td>3522</td>\n",
       "    </tr>\n",
       "    <tr>\n",
       "      <th>Naive Bayes Model (Tf-Idf)</th>\n",
       "      <td>0.832248</td>\n",
       "      <td>0.851506</td>\n",
       "      <td>0.720891</td>\n",
       "      <td>8185</td>\n",
       "      <td>28159</td>\n",
       "      <td>506</td>\n",
       "      <td>5832</td>\n",
       "    </tr>\n",
       "    <tr>\n",
       "      <th>Support Vector Classification Model (BoW)</th>\n",
       "      <td>0.874701</td>\n",
       "      <td>0.887142</td>\n",
       "      <td>0.817226</td>\n",
       "      <td>10769</td>\n",
       "      <td>27096</td>\n",
       "      <td>1569</td>\n",
       "      <td>3248</td>\n",
       "    </tr>\n",
       "    <tr>\n",
       "      <th>Support Vector Classification Model (Tf-Idf)</th>\n",
       "      <td>0.789466</td>\n",
       "      <td>0.792840</td>\n",
       "      <td>0.552440</td>\n",
       "      <td>5457</td>\n",
       "      <td>28383</td>\n",
       "      <td>282</td>\n",
       "      <td>8560</td>\n",
       "    </tr>\n",
       "    <tr>\n",
       "      <th>Keras Classification Model (BoW)</th>\n",
       "      <td>0.873717</td>\n",
       "      <td>0.900286</td>\n",
       "      <td>0.840778</td>\n",
       "      <td>11237</td>\n",
       "      <td>27189</td>\n",
       "      <td>1476</td>\n",
       "      <td>2780</td>\n",
       "    </tr>\n",
       "    <tr>\n",
       "      <th>Keras Classification Model (Tf-Idf)</th>\n",
       "      <td>0.878661</td>\n",
       "      <td>0.942903</td>\n",
       "      <td>0.911133</td>\n",
       "      <td>12493</td>\n",
       "      <td>27752</td>\n",
       "      <td>913</td>\n",
       "      <td>1524</td>\n",
       "    </tr>\n",
       "  </tbody>\n",
       "</table>\n",
       "</div>"
      ],
      "text/plain": [
       "                                               cv_mean  accuracy  f1 score  \\\n",
       "Logistic Regression Model (BoW)               0.875053  0.897334  0.835671   \n",
       "Logistic Regression Model (Tf-Idf)            0.882105  0.906049  0.848416   \n",
       "Naive Bayes Model (BoW)                       0.857692  0.861230  0.779920   \n",
       "Naive Bayes Model (Tf-Idf)                    0.832248  0.851506  0.720891   \n",
       "Support Vector Classification Model (BoW)     0.874701  0.887142  0.817226   \n",
       "Support Vector Classification Model (Tf-Idf)  0.789466  0.792840  0.552440   \n",
       "Keras Classification Model (BoW)              0.873717  0.900286  0.840778   \n",
       "Keras Classification Model (Tf-Idf)           0.878661  0.942903  0.911133   \n",
       "\n",
       "                                              true positives  true negatives  \\\n",
       "Logistic Regression Model (BoW)                        11142           27158   \n",
       "Logistic Regression Model (Tf-Idf)                     11222           27450   \n",
       "Naive Bayes Model (BoW)                                10495           26264   \n",
       "Naive Bayes Model (Tf-Idf)                              8185           28159   \n",
       "Support Vector Classification Model (BoW)              10769           27096   \n",
       "Support Vector Classification Model (Tf-Idf)            5457           28383   \n",
       "Keras Classification Model (BoW)                       11237           27189   \n",
       "Keras Classification Model (Tf-Idf)                    12493           27752   \n",
       "\n",
       "                                              false positives  false negatives  \n",
       "Logistic Regression Model (BoW)                          1507             2875  \n",
       "Logistic Regression Model (Tf-Idf)                       1215             2795  \n",
       "Naive Bayes Model (BoW)                                  2401             3522  \n",
       "Naive Bayes Model (Tf-Idf)                                506             5832  \n",
       "Support Vector Classification Model (BoW)                1569             3248  \n",
       "Support Vector Classification Model (Tf-Idf)              282             8560  \n",
       "Keras Classification Model (BoW)                         1476             2780  \n",
       "Keras Classification Model (Tf-Idf)                       913             1524  "
      ]
     },
     "execution_count": 24,
     "metadata": {},
     "output_type": "execute_result"
    }
   ],
   "source": [
    "keys = ['cv_mean', 'accuracy', 'f1 score', \n",
    "        'true positives', 'true negatives', \n",
    "        'false positives', 'false negatives', ]\n",
    "\n",
    "names = [\n",
    "    'Logistic Regression Model (BoW)', \n",
    "    'Logistic Regression Model (Tf-Idf)', \n",
    "    'Naive Bayes Model (BoW)', \n",
    "    'Naive Bayes Model (Tf-Idf)', \n",
    "    'Support Vector Classification Model (BoW)', \n",
    "    'Support Vector Classification Model (Tf-Idf)', \n",
    "    'Keras Classification Model (BoW)',\n",
    "    'Keras Classification Model (Tf-Idf)',\n",
    "]\n",
    "\n",
    "models = [\n",
    "    lrm_results_bow, lrm_results_tfidf, \n",
    "    clf_results_bow, clf_results_tfidf, \n",
    "    svc_results_bow, svc_results_tfidf, \n",
    "    keras_results_bow[0], keras_results_tfidf[0], \n",
    "]\n",
    "comb = {}\n",
    "\n",
    "# combine them into one dictionary\n",
    "for k in keys:\n",
    "    comb[k] = tuple(comb[k] for comb in models)\n",
    "\n",
    "# plot that dictionary into a dataframe\n",
    "summary = pd.DataFrame.from_dict(comb)\n",
    "summary.set_index(pd.Index(names))"
   ]
  },
  {
   "cell_type": "code",
   "execution_count": 25,
   "metadata": {},
   "outputs": [],
   "source": [
    "# print ROC curve for LRM BoW\n",
    "preds = lrm_model1.predict_proba(X_train_bow)[:,1]\n",
    "fpr_lrm_bow, tpr_lrm_bow, threshold = roc_curve(y_train, preds)\n",
    "lrm_auc_bow = auc(fpr_lrm_bow, tpr_lrm_bow)\n",
    "\n",
    "# print ROC curve for LRM tf-idf\n",
    "preds = lrm_model2.predict_proba(X_train_tfidf)[:,1]\n",
    "fpr_lrm_tfidf, tpr_lrm_tfidf, threshold = roc_curve(y_train, preds)\n",
    "lrm_auc_tfidf = auc(fpr_lrm_tfidf, tpr_lrm_tfidf)"
   ]
  },
  {
   "cell_type": "code",
   "execution_count": 26,
   "metadata": {},
   "outputs": [],
   "source": [
    "# print ROC curve for CLF BoW\n",
    "preds = clf_model1.predict_proba(X_train_bow)[:,1]\n",
    "fpr_clf_bow, tpr_clf_bow, threshold = roc_curve(y_train, preds)\n",
    "clf_auc_bow = auc(fpr_clf_bow, tpr_clf_bow)\n",
    "\n",
    "# print ROC curve for CLF tf-idf\n",
    "preds = clf_model2.predict_proba(X_train_tfidf)[:,1]\n",
    "fpr_clf_tfidf, tpr_clf_tfidf, threshold = roc_curve(y_train, preds)\n",
    "clf_auc_tfidf = auc(fpr_clf_tfidf, tpr_clf_tfidf)"
   ]
  },
  {
   "cell_type": "code",
   "execution_count": 27,
   "metadata": {},
   "outputs": [],
   "source": [
    "# print ROC curve for SVC BoW\n",
    "preds = svc_model1.predict_proba(X_train_bow)[:,1]\n",
    "fpr_svc_bow, tpr_svc_bow, threshold = roc_curve(y_train, preds)\n",
    "svc_auc_bow = auc(fpr_svc_bow, tpr_svc_bow)\n",
    "\n",
    "# print ROC curve for SVC tf-idf\n",
    "preds = svc_model2.predict_proba(X_train_tfidf)[:,1]\n",
    "fpr_svc_tfidf, tpr_svc_tfidf, threshold = roc_curve(y_train, preds)\n",
    "svc_auc_tfidf = auc(fpr_svc_tfidf, tpr_svc_tfidf)"
   ]
  },
  {
   "cell_type": "code",
   "execution_count": 28,
   "metadata": {},
   "outputs": [
    {
     "data": {
      "text/plain": [
       "(array([0, 0, 0, ..., 1, 0, 0], dtype=int64),\n",
       " Int64Index([0, 1], dtype='int64'))"
      ]
     },
     "execution_count": 28,
     "metadata": {},
     "output_type": "execute_result"
    }
   ],
   "source": [
    "y_train.factorize()"
   ]
  },
  {
   "cell_type": "code",
   "execution_count": 29,
   "metadata": {},
   "outputs": [],
   "source": [
    "# print ROC curve for Keras BoW\n",
    "preds = keras_results_bow[1]\n",
    "fpr_keras_bow, tpr_keras_bow, threshold = roc_curve(y_train.factorize()[0], preds)\n",
    "keras_auc_bow = auc(fpr_keras_bow, tpr_keras_bow)\n",
    "\n",
    "# print ROC curve for Keras tf-idf\n",
    "preds = keras_results_tfidf[1]\n",
    "fpr_keras_tfidf, tpr_keras_tfidf, threshold = roc_curve(y_train.factorize()[0], preds)\n",
    "keras_auc_tfidf = auc(fpr_keras_tfidf, tpr_keras_tfidf)"
   ]
  },
  {
   "cell_type": "code",
   "execution_count": 30,
   "metadata": {},
   "outputs": [
    {
     "data": {
      "image/png": "[encoded data removed]",
      "text/plain": [
       "<Figure size 1440x1440 with 1 Axes>"
      ]
     },
     "metadata": {},
     "output_type": "display_data"
    }
   ],
   "source": [
    "plt.figure(figsize=(20,20))\n",
    "plt.title('Receiver Operating Characteristic')\n",
    "\n",
    "# LRM Plots\n",
    "plt.plot(fpr_lrm_bow, tpr_lrm_bow, 'b', \n",
    "         label = 'LRM BoW (AUC = %0.2f)' % lrm_auc_bow)\n",
    "plt.plot(fpr_lrm_tfidf, tpr_lrm_tfidf, 'g', \n",
    "         label = 'LRM Tf-Idf (AUC = %0.2f)' % lrm_auc_tfidf)\n",
    "\n",
    "# NBM Plots\n",
    "plt.plot(fpr_clf_bow, tpr_clf_bow, 'r', \n",
    "         label = 'NBM BoW (AUC = %0.2f)' % clf_auc_bow)\n",
    "plt.plot(fpr_clf_tfidf, tpr_clf_tfidf, 'c', \n",
    "         label = 'NBM Tf-Idf (AUC = %0.2f)' % clf_auc_tfidf)\n",
    "\n",
    "# SVC Plots\n",
    "plt.plot(fpr_svc_bow, tpr_svc_bow, 'm', \n",
    "         label = 'SVC BoW (AUC = %0.2f)' % svc_auc_bow)\n",
    "plt.plot(fpr_svc_tfidf, tpr_svc_tfidf, 'y', \n",
    "         label = 'SVC Tf-Idf (AUC = %0.2f)' % svc_auc_tfidf)\n",
    "\n",
    "# Keras Plots\n",
    "plt.plot(fpr_keras_bow, tpr_keras_bow, 'k', \n",
    "         label = 'Keras BoW (AUC = %0.2f)' % keras_auc_bow)\n",
    "plt.plot(fpr_keras_tfidf, tpr_keras_tfidf, 'tan', \n",
    "         label = 'Keras Tf-Idf (AUC = %0.2f)' % keras_auc_tfidf)\n",
    "\n",
    "plt.legend(loc = 'lower right')\n",
    "plt.plot([0, 1], [0, 1],'r--')\n",
    "plt.xlim([-0.025, 1])\n",
    "plt.ylim([0, 1.025])\n",
    "plt.ylabel('True Positive Rate')\n",
    "plt.xlabel('False Positive Rate')\n",
    "plt.show()"
   ]
  },
  {
   "cell_type": "code",
   "execution_count": null,
   "metadata": {},
   "outputs": [],
   "source": []
  }
 ],
 "metadata": {
  "kernelspec": {
   "display_name": "Python 3",
   "language": "python",
   "name": "python3"
  },
  "language_info": {
   "codemirror_mode": {
    "name": "ipython",
    "version": 3
   },
   "file_extension": ".py",
   "mimetype": "text/x-python",
   "name": "python",
   "nbconvert_exporter": "python",
   "pygments_lexer": "ipython3",
   "version": "3.7.6"
  }
 },
 "nbformat": 4,
 "nbformat_minor": 4
}
